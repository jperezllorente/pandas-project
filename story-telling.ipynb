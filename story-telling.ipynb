{
 "cells": [
  {
   "cell_type": "code",
   "execution_count": null,
   "metadata": {},
   "outputs": [],
   "source": [
    "data:image/jpeg;base64,/9j/4AAQSkZJRgABAQAAAQABAAD/2wCEAAkGBxITEhUSEhIWFRUVGBcVFhcVFxUVFRcXFhcWFhUVFRUYHSggGBolHRUVITEhJSkrLi4uFx8zODMtNygtLisBCgoKDg0OGxAQGi0lHyUtLi0tLS0tLS0tLS8tLS0tLS0tLS0tLS0vLS0tLS0tLS0tLS0tLS0tLS0tLS0tLS0tLf/AABEIAKgBLAMBIgACEQEDEQH/xAAcAAABBQEBAQAAAAAAAAAAAAAFAQIDBAYABwj/xAA7EAABAwIEAwYFAwMEAQUAAAABAAIRAwQFEiExQVFhBiJxgZGhEzKx0fBCweEUUoIjYnLxQwcVM6LC/8QAGgEAAgMBAQAAAAAAAAAAAAAAAwQAAQIFBv/EACwRAAICAQQCAQMDBAMAAAAAAAABAhEDBBIhMSJBURNxgQUyoRRh0fBiscH/2gAMAwEAAhEDEQA/AMRKFYiYqjq1FELvW5qoHJoXodX+z8nC03E+fgWVK2RBG41CTIp2DRLRizc5L0HMH7ZPpOAqNkLY2mNsqMztMk+y8yFvnOVXsMDqVSGklh58PFFhGV89C+VR2+PfwbS4r5jlnf5j05IffYiT3Ke2w6qjXvDGh3V3s7bAuNZ+rW6MB/U7iT0CYlSEops0fZ7BQ1ofVME69T9gtD/VU2iGwPqsne4zrvB57eyHPxY80Bwc3yxhZFBUkbStiAAmZWa7QX/xCxo4nZNtr8Hcqri3dbnGuUh3oVuMFExKbkgBe4E+rcltEQXDNOwHOSmsrVrZ/wAOu0t+h6g8Qtl2buWF8gg5h3T0B29wsr2n7dUqlb+nNrmYHFpLj3jr3XU4+UxPNLZMuyQ7iwfVxmmw66a9oIP55ItRqRxleX2GJmjUIaSWSYneJ0JHgt3hN+2oMwdPmjJ7hSUXF0aOnUnT7K1SP9o9Oqo2xaP3RS2qZUGfAbHz2Op2lSJcAOUJX2pUxvU3+rCDchmofJRqWZdI6dB6ShVayyTBII7pEwCjdzWJ+SJ6z+yq3RJBzATp1RoTfsXyQj6KTKpI72sacp5aIZiN61gJLlHjmL06TdTry5rzfFsXfWdybyRnJRQGEJTfAZvcWrXDxTtwTOmifinYutTo/GfLiNXQZAH181TtO1LbCk3Jb56lQSXuMAEO+WBrGXhI1M+PpFh2gZc2PxXMy52lrmHXXbTmDI9Us8lyoehgUYbkZvs+wUqIMb6/sFscOqgtB2WUDwajaTdSO86OAGwPmjlOrl3P50Tk1ao50G07ZoAQm1adMiHQsxcY0G7uA8UFu+0s6NJPgJQfov5oN9ZP1ZosWsH0wX0j8Rm7m7uA4xzCzFao1wzN05jl/C5naB7dSXA+BAVS9uWmK7ABwqNGxniB1+qPilXuxXLBT9URVXqu4qSseWx1HgoSmgcVQoT2pjQpWBQuRK1OlNCVQCwBKDB81nHhMeiJ3NXK1zuQ/wCkEw4lc3WT8ox/J6DSw8ZS/AXapMyga5NpS58DzUU+kjH07t/ARt28Vaa+B1KgUXxO9+cE5LwjQpt3Mtl0kD85IwLsgBlPlAQSi7X84Sj+A0YIeR1S+WVIuGO5UWKGCud3qjj4KvdYXSGgqEHxlRY/ilVohuxmfAcFBQuxVa13RJvJToeWFbbor1m1qJkHO3n91Nb9oODx48lZJ9ChGKWMd5o8R9kaGVgMmCJZFZ9M/EtnAtOuU6lp6DkqFZzqr89QNzb6NAOu+yHMqkHQwVbo1i7cralGTMOEoo64oaypbG9fSdIPiFO2lKiuqCI41ygamn4s3GA40KsawRw/haWlcgjReLNrOYZaSCOS0GFdqXNGV8nqh2myOEo9HprakmE9xWYw3tLROrneUqledr6bJDXEzqOfqptKs1le5y6ysj2g7ZBoLWan6LL4r2jq1dJyt6ITSoSZP/apyV0jccbfMujr25fUMvJJT7G2zaqQ0hzVuzYVIw8rYSeSoVElqWsgbSOYBHmCiFrd3rmCm3I1o/XAaBzM89eUqtUJAkBDLy9qbFxjlwRZqK5F8Tm+Eam0vaFq0tDy951c6Nz06Ide9oajyQzQc0EoUi7w4lE7ezHEacv3KxLKkEjhti29PMc1Ql3T90ctrxlMSKbQB11+iHtEaoD2hxHKMgPed7DmlcmV9scxYFdI3VO5oVxsO9t9is9e0cjnM4EH21H0U3ZSzIpif7p/PVLjh7/r9EXFLlMFqMap/wBgZaVZbHL6FSKjYP7xHT91eC6OJ3E5+WNSHtUzVEwKUIgCQ9cmykzKGKMXj1zADBx1PhwVG0r5VVua5e4uPH2HAJmYrzuXNvyOR6/FiUIKIXdeE6N1J2Rmxt8jddXHf7Kjg2H5RneO8dhyH3RQldPSYWvOfZzdVlT8IdDgVVY7veqnlVGnvIud8oBjXDCuHAF37rV4azRZPCnd8Bayxdqlcj5N412NxGyDwR/td9/2Xn2EYgaNZ1J/ylxg/wBp+y9PuDsV5b2utcld7h4+/wDKRz+MlI6enSnBxNkwpzjwKy/ZzF9BTqGd4PLcwfILSzIW4ztWgM8bi+QViGFyZaNfYqpbgN+YQdloA5c+0Y8a+vFHhOmLTx2qKVveUY1fqNwAfqo693TO0nyUtXBRuFSusPI+WUys3Ao9Ok/ZVuareA9VXDSpW2ZBEOc4nfMIjwRSjhTjEeZOiwvLlhbUVSKFClprrt4hc6gj9rgzjOnr7QVNUwRw6e/KY58VtKCVGJSndmVqAjgPRPtbkAd4D6I5cYa4CIHLYTvP7e6oO7PF852k8QWkCPELEvHlGo+XEkI26ZE5PoVLa4pTbGZhO2gKntOz+UQTCttwek3eSp9bgz/Tp8UVLvGKZEMpEHqf2Co0bRzzmdoixtGDWE5jCTACHLM2Fx6eMCCnQA0Gw91YI0StaAqGLYm2k2SegHElAb9sZjH0hmL4i2kyePAcSVkMLY64rgu1Lj6BQ4pdmoczjr+kcAJ/grVdhcNgGoRv3R57n0lLSl9SVLoehBY4tvs29hSDKY8Pr+BZvGaslx6fXT91o7yrDVk8Vd3f+TvYfz9E/BcnLyu0ULH5/VEgh+HN1J8vX/pEWro4F4iGd+RI0J4TWpUYUYpK6UhKRQlHmlKkXGGiStBhmFhnedq72Hh1Vq2t2sENEfU+JU4XO0+jUPKXLO9n1Tn4x4Q5dKbKSU8JUOlV6w7ymTLgbFBzq42ExumXMJeBUaT4eui1tHQrEW262dOpma1/MA+ex90pM3HsI1dWrL9ubDPTZVHEQfEaH7rRtfoohQbVa+id4Lm+PFK543Ed0sqlXyeS4bUyuA5n6aIlhmNvoOyP79OY/wBzfDp0VbFcPdSeW7Fpcesb/sqjzmYXcZbPoR9kkpNdD7inwz0K1rsqND6bsw6b+Y4Kwz0PssK6o+3bQNNxB77ndZLd+egWptMWDmzUGWQO9+nXSTyTEcqfDFJ4WuUHaQ5qdtiChTK7m6jUHzCu0MRbxEHp9ijqQu4lpuGDkiNnaNGhCq0MRbwI+iIULxpW9xjaELW3YNhvKWrRaTEKBlw3hKV1zx181XJdFa5shyVJ9jyRB+IN6T0IKH3OJAbmPb6q7JtK7raFVrMkwNSkr4s3g2fE/ZVKmI1HaDQcmgD1jdZbL2j30o+Y/dQ1a2kDRvIcepPFRvMDM9waOqE32JAsqGmSMoHe8TrA8AhykkEjBvodimLNp93dx2A38TyCx9eu6o9z3axMcgOQ9k6C4zuddTqTmOnnEeqbdw0PYP7svp9z9ErObkOQxKH3Es7Q1qzWN11H5+dV6tYWopAMH/jEH/kd/aPVAuxmD/09L+oqDvH5Ady47BH2mBrudSeZOpRsEPYLUT42or39Xgs3ilSXRwGnpv7o1d1YkngCVmqzpKex+2czJ2kXLBvd8SrbVDSbAAUzV04KopHOyO22SBKSmyklaBUOJSJq5QugME5NCWUI6LRxKSVy5SyJCplU6JybU2WMnMWXHtCW7ocFr8O+RzeRDh4Hf3WLpuWywdwIaTsRlPn/ACkb4CteQQpO0VetVLHteNwpWiDHLRMu2SEOS4CRdMq9rMMbWY25piT+po9CF5lWoOadJ4jxg/aCvVMKv/huLHf/ABv0PRBO1GCihU+K0ZqTnBx/2zoT4EJLJCmdTHk3RsxlzdfEpsB+ZvdPnsjNVzHF1E6Q5p0490OHuhGJWBpvcyZ4tP8Ac07Efm4T21sz6ZJgkNDj1Bj6QhX6NtXyHMMu3U6RqOcQGyMoEhxGkRO8o9Z3gqASw68QOaFik3+o+E0AZntcBGgkS6BymSiuGXDKRrgRnBdkHEl0hoH+SLHcumBntl2izbupOjK8fQ+iLW1uDs5D8J7Mta1lAul7WMJcf90kx0kaKvj5bQr07em493/VrvkgMZ3gGjqd/wDFFWSu0AeJPpmmZZjmPQJwtfD0H2Qz/wBorh+UVXRprvvx8EMbfOGJGwNSYYQTJ1qAZy2f+HLir+sivoP5NDVtSf1e6oV7Ng1JClqYRULXO+I4Bu8zp4nbgVn+wlUXz7ii75mkvpZgJLTplPERln/JU8y9I0tP8snr16IMAzwgKjc4kW7NyjjprHmruJYaaTMwjR8O5gaZfDX6hd2lLalq2ozk3PG53B9wFlyk1ZtY4J12Z7GaL2uDn8SIkyd+So4vUEups3cQD6D7oljFbPTty4xsDzOXT9yVSw2kDWNV3AmoejWa69NAgvug6XFv0VbpjaHUh2Vv+Grj65fVXewPZs3df4rx/pUzJJ2LtzPQb+iGWFnVva7aTRqTJPBrSZcfUr07FCyzoNsqGhj/AFHDgOU8ytQjbKnLarZXvLptWtFPSlS7rOp4uTLqpw5qDDaeVk80ly/gm48I583bsoYi/uHrog9u2XeGqJYq7ZvL6qpZt0nmncMbaEMku2WgpAo2py6Akx0pCUkpsqFUOlLKbKSVC6BS5ckQTo0KuSLlRdCpQmpQrKaKnyuWqwOr3R11WYvG/q8j+y0OA1AaY6Lnzjtk4hnylIO3Lph3PfxCXNIUBdpHmEtJ6GyIrVqeqI4fdNc34NYS06Bx4dCq9dk6pjGcENqw0JOLsBdo+zbmnIDLf/E7lP6CeRGx5gLN4hhXw6bH6w+ROsh7TDmHqND4FelMrw34dQZmbCdY/hU7uxGV7Xf6lCpExGdjh8tRp4kddxolpYx6GW1wYrCcV+HWpVKgkN7pPGDIzeU+yNYIA++e6dJLhOxzHu/X2VXGcFc2mKlOHZRlfGocwaNqtHDgHDgfFDzQq0GUrhhJY8RPJzCQWH6joVhWjTSfX2PRr2+FK8Y5xhrqUHXiySNPM+qEdsaeWlWefmqMzHz0jyGiINw/+rt6F40yWaVG7xBkOCh7VgVbem9kOGrXTyI/PVFcuGCUeg72K7RtqWVOq86sb8OqTvmaCB6wD/kF5lcYiaWLMuj+qq17vBxyv9pXonZbDGstG0oADgSROpLt1i7HCfiX9JlSf9KoXOniGagHzDfVZl0i1Gmzd9vO0PwrdtIDWtVDJjTKfmJ6wCP8kE7K4e2i7+sYIJcWP5ZS0d4Do6D6rVYrgBvab2NiWd8E7Z26tHmeKD2lRlCzbTrENcZkHmSZnyIROLBq64I7yoKtOrroS4T1Gg94WRZXLLOrMnvgDjBMH+U/E69RlCkym12R5dDzMOLSM0Djq4LUVOzop2dvbPcGvqVP6is4wMrWjbpAcPMobk5MNSivuBsFwU1DSuaulOn8oP6sjZqP6DNA8T0QllN72OFJs1Lh2SmOTAc1R55CQB5FHr3FjdH4Fo05YFIad1lFu5PVxnyCN2lClY0wT360ACeAGwjgOnFUo30RypXIhwrD6eF0OD7ipv48/AcAglbM53eMucZcequ1873GpUMuO3RRUKespiMaVCeTI5Oyw45WwqAfqSdgpr2roh1WpDfzyRF2CfRTvSS6OepUjVDSMkuPgpQupp41Gzm5HzRICllMBXSjgaHEpE2UsqyUOlcmyulUQGJFxSSgHTSFlKmpVCCrkiUKymKWyIOxVjs+4seWHxHUc/zkrVnYaZneQ+6fdkNh/wDafY6H9kLPjtbvgBDULfsQWlIxyjo1gQkeUixtF9plI0KKi9T9Vk0TsYCIKidQczbZS0XK40yqastSaMzeW896m4scNYBjXbzQ2hcuptfRq0hUo1DLmjulrv72citddWAchtfCCB04H+UGWJ+hmGdVUit2R7TMsnuZLqlF3BwDHDyOkgeqf2ipUc4rWdcfDeZfSmC07mGnfyVW4wVxBlsjhsUNfgvUt6CR9dEFxkHWTHd2amnjlOpSaGuFOsz5XNOhEzD2/uhTK1epcaOY2o8Q5/dAI5knT/pAquGPGzvYSmjDa3B0+X8qnb9G4yil2e0N7UWlnQ+GKvxKgHeO5c7iSeAWFfbULut8etVFNky4FwEgHgDrqs3TwCsYzPA9Puilp2Up71KuboCT9FupP0DThHmzRXGN2r6zHAA0rdoFFjR87vDgJQ26sLu/q/ErEUqcQGjcN3Ingr1laUaQ/wBOmPEiFZqVKjonblsPIDdEWNvsE80V+0fQ+Fa0/h27RPMDj4/qPUqs22JPxKmp4D9yrtG2A1I1Udy9GUUhaU3J2wfcKKICkfzVW6q6LRgpV6ku/Pzgql4+dk2pW1Ku9nrUVrhrDsO+7wbw9YUxq2Vle2Nlqy7KViyZYDvlc7vH2geaGXNs+m4se0tcNwV6o21bEBD8UwZtduV+jgO4/iD/AGnm1dGGWuPRzWm+zzZIVZxCyfReWPEEeh6g8QqhKZM0OlcmSulQlEi6UyV0qEoGkpJSErpS1nVSHJZTJTgpZTQ5oWgwbCho+p5BQ4Nh+uZ3kFpI018gFtHOz5r8Ygy6EIBjFXuEIxidcNnX+FhMZxLOcrdh7oOpyqEPuXoNO5zv0jTYVcgsGqICtOiw2GXbqbpBkHgjtDEg5c+MlJHUnBxkaK3q8FeY5AaVcGI3/NEStLidFaMsIMMFXqNRUGOlSsMK6KsJSmtcRtxVdlRL8RXRVlynTYd2+YTX4Y07RKZRqq9TdopVk3FB+DaTk+ijp4GI1B9grlO/Y4SyXCSO6JmNdOf8hUcF7Q07l7msa4ZeLoB4cOG/sreKvRFlvoczAxOpAHiFapWjGzqfIK8IUFZ6raRzsrloB7o9dU4DmonVE34qlEsnqvQ2u+Sn1606Khc3EK6JY24rAINfXkDdR4hfQgNa5LjqhTkEhEu/HTMH7RC3r5zrIg9ByVF1Co/5dB10UFXAn7hzSfMLcI5V5QiSSxSuM2eu4R2qp1Yh0ErRUrkHdfPFM1qB2I+nkVtOznbQ6MqJiGaM3tkqYnl0k8flB7onpePYSy4pwdx8ruI/jovM760dSeWPEEfkhei4XjDXjulVe0mFtrszNHfGv50TOOTg9r6FW0+UeeLl1VhaSCIITJTJdD1ybKVQlAyV0pspJSZ1aJFfw2hJzHZUKTZMIpTrBo5KRdsV1EnW1B6jWAUF/jDKbTJ91mMRx2NG+yFChUqmahLRy4rM9Rb241bB4dC35ZHSJMSxZ9YlrZg+6jtsLG7z5D9yr9Gi1ghoj6nxKkQ46e3uyO2P71GO3GqR1Km1ohoAHRdUog9DzCUFLKZcYtU0Lu7sa2oWb7c1ft7wGDOqoymBkbafRKz09ftNqXyam0vQdDoURZUWLpXBGh8unUIhbYmW6O1/PdC64ZTNQKiX4qEsvQdQVqOymEC4zl2zWmBzcQcuvILGXJHFBzl0i8cXkltRSo1dUSGJfBo1HtyfFgCl8RudklwzS3/jO6zrrnKYIhCcXxKXObmADQ0wSATmnYHfb6IsFGfDfBT3xdxVs2dkxtQMp5Ks12Vavx6Qa23olheYc2ObRoCIzCNkI7OYe+jUdVqsLPjbeJMmY23231VLs08PbUz1nhgLQKTD873TBc0uAyiJJ1WnvLRrKYyvzMc1x7rHAtfTIDxld80SRmGhkpDWazJiyvFDnr8f2O3ov0/Dkw78nFp8fPu7/mi29ypVnKtUvHQ0uGUuAdB5OEg+kFVK14Tsn+zhNU6LFWqAqb7kqtVrdVQub0N3KpksI1rqAgmIYiBx1VC5xF79GBV223Fxnp9ypGMp8RRriP7iGrUdUOmv0Cnt7QN1Op9lMNNBoulNYtNGPL5YOeWT4XCHgp4KjCcCm0LtDyARB1CGXeENOtM5Ty4fwiMrpWMmKGRVJGseScHcWDsPxmtbuAdI+hXoGDdqGVANYKxdek14hwkfmyE1bepQOemS5vuPFKNTw/8AKP8AKDShjz9eMv4Z6H2ksQ4fGpj/AJD9wswreBdpcwhx9f5UWIsDXyPldt0PJMwyRatPgUUJQlskuSIJ0pgSyjFgqUspqo3d5GgXNy5NkbOxGG4JG5awSShzrmpVMN0HNRUbd1Q5n6N+vgilJgaIAgIUIzy98L/sm2EHfbI7WzazXc8z+ysyklJKbjFRVIFJtvkdK4JspVqzI5LKbKQlXZVCyulNlJKqy9o+VybKSVmST7JtJmVCF6N/6cdo6TJo1XBuYy15PdnbK48Oh/D5qCpGVCEpqdFHPjcLN4pvHLcezdouxbrhzqtsWtc7UtdIY4n9QcAcs8dCPDj4t2twivSuHCqBmbAJYc7JE6ZwNxxRG2xeszRlaqwbQyrUYI8GuCj/AKiRq5xni4lxM7yTqSl9J+n5oJwyTtegmXUxvdCPPshssSqUD8RtL4jdcx1AB4agGNjuvRcCuxWaKzsxY5rW5QZOV4JexvjoP8lhcINVpLmGBMDkTxEbnyW1o5aFOjTqOAeCa72RqScop0/QSfNcnWYn/U+Pdvlf+/Y9Hgy1p4xk+JJJL/H3Ie0l8XVnOe3IdBlj5QBAHkIWfr4iB/K1NS5FZ0uAJ4kiZJ33WZ7Q2zGvOUAaNO3PMP8A8n1Tug18c2RYEq+H9jmfqX6NPTweZyv5QLr3z3baKp8GdXGfopZSErvrTwXL5PPb36O20GiaSuJTUUiQspQmpVVmmhycEwJy0mDaHSkSSklXZVDlyallQlA69w7XPS0dy4Hw5FJb4pmbkqaHqiUofidhn7zdHj/7fyks2BxueP8AK+RrHkUqjk/DLttWkRxHuOanlZqxuyHAHcc/cFaCnUDhI4rel1H1I0+0Y1ODY79Am5eQ0wJJ0EKC1so7z9Ty4BcuQHjUpWx/dS4LwTwuXIyBMVdKRctFCylC5coUxSmkrlyjKQi6Vy5UaElclXKFihKuXKzDHAp65ctowwvg2KigCW02mpJyvdrln+1u09VWrX73vL3OJJMkndcuQ4afHGTkly+2SWebSV9Bi0xlrWiWknpAHnJQ3E73OSeJMn6ADoAPqeK5cltP+nYMOZ5YLl/x9h/V/qWfPhWOb4/3sHyklcuXROQkISkXLllhUjkq5coiMUJZXLlYNo6UkrlyhdHSllIuUJQqWVy5WZaBuKYfm77Pm4jn/KoUb4gRmI6JFy5esisclKPFnQ0st8XGXo//2Q=="
   ]
  },
  {
   "cell_type": "code",
   "execution_count": 54,
   "metadata": {},
   "outputs": [],
   "source": [
    "import pandas as pd\n",
    "import numpy as np\n",
    "import seaborn as sns\n",
    "import matplotlib as plt\n",
    "import re"
   ]
  },
  {
   "cell_type": "code",
   "execution_count": 155,
   "metadata": {},
   "outputs": [],
   "source": [
    "data = pd.read_csv(r'C:\\Users\\juanp\\Ironhack\\pandas-project\\data\\data_clean.csv')"
   ]
  },
  {
   "cell_type": "code",
   "execution_count": 156,
   "metadata": {},
   "outputs": [
    {
     "data": {
      "text/html": [
       "<div>\n",
       "<style scoped>\n",
       "    .dataframe tbody tr th:only-of-type {\n",
       "        vertical-align: middle;\n",
       "    }\n",
       "\n",
       "    .dataframe tbody tr th {\n",
       "        vertical-align: top;\n",
       "    }\n",
       "\n",
       "    .dataframe thead th {\n",
       "        text-align: right;\n",
       "    }\n",
       "</style>\n",
       "<table border=\"1\" class=\"dataframe\">\n",
       "  <thead>\n",
       "    <tr style=\"text-align: right;\">\n",
       "      <th></th>\n",
       "      <th>original order</th>\n",
       "      <th>Case Number</th>\n",
       "      <th>Year</th>\n",
       "      <th>Type</th>\n",
       "      <th>Country</th>\n",
       "      <th>Area</th>\n",
       "      <th>Activity</th>\n",
       "      <th>Sex</th>\n",
       "      <th>Injury</th>\n",
       "      <th>Fatal (Y/N)</th>\n",
       "      <th>Time</th>\n",
       "    </tr>\n",
       "  </thead>\n",
       "  <tbody>\n",
       "    <tr>\n",
       "      <th>0</th>\n",
       "      <td>6303.0</td>\n",
       "      <td>2018.06.25</td>\n",
       "      <td>2018.0</td>\n",
       "      <td>Boat</td>\n",
       "      <td>USA</td>\n",
       "      <td>California</td>\n",
       "      <td>Surfing</td>\n",
       "      <td>F</td>\n",
       "      <td>No injury to occupant, outrigger canoe and pad...</td>\n",
       "      <td>N</td>\n",
       "      <td>18:00</td>\n",
       "    </tr>\n",
       "    <tr>\n",
       "      <th>1</th>\n",
       "      <td>6302.0</td>\n",
       "      <td>2018.06.18</td>\n",
       "      <td>2018.0</td>\n",
       "      <td>Unprovoked</td>\n",
       "      <td>USA</td>\n",
       "      <td>Georgia</td>\n",
       "      <td>Standing</td>\n",
       "      <td>F</td>\n",
       "      <td>Minor injury to left thigh</td>\n",
       "      <td>N</td>\n",
       "      <td>14:00</td>\n",
       "    </tr>\n",
       "    <tr>\n",
       "      <th>2</th>\n",
       "      <td>6301.0</td>\n",
       "      <td>2018.06.09</td>\n",
       "      <td>2018.0</td>\n",
       "      <td>Invalid</td>\n",
       "      <td>USA</td>\n",
       "      <td>Hawaii</td>\n",
       "      <td>Surfing</td>\n",
       "      <td>M</td>\n",
       "      <td>Injury to left lower leg from surfboard skeg</td>\n",
       "      <td>N</td>\n",
       "      <td>07:45</td>\n",
       "    </tr>\n",
       "    <tr>\n",
       "      <th>3</th>\n",
       "      <td>6300.0</td>\n",
       "      <td>2018.06.08</td>\n",
       "      <td>2018.0</td>\n",
       "      <td>Unprovoked</td>\n",
       "      <td>AUSTRALIA</td>\n",
       "      <td>New South Wales</td>\n",
       "      <td>Surfing</td>\n",
       "      <td>M</td>\n",
       "      <td>Minor injury to lower leg</td>\n",
       "      <td>N</td>\n",
       "      <td>07:45</td>\n",
       "    </tr>\n",
       "    <tr>\n",
       "      <th>4</th>\n",
       "      <td>6299.0</td>\n",
       "      <td>2018.06.04</td>\n",
       "      <td>2018.0</td>\n",
       "      <td>Provoked</td>\n",
       "      <td>MEXICO</td>\n",
       "      <td>Colima</td>\n",
       "      <td>Diving</td>\n",
       "      <td>M</td>\n",
       "      <td>Lacerations to leg &amp; hand shark PROVOKED INCIDENT</td>\n",
       "      <td>N</td>\n",
       "      <td>07:45</td>\n",
       "    </tr>\n",
       "    <tr>\n",
       "      <th>...</th>\n",
       "      <td>...</td>\n",
       "      <td>...</td>\n",
       "      <td>...</td>\n",
       "      <td>...</td>\n",
       "      <td>...</td>\n",
       "      <td>...</td>\n",
       "      <td>...</td>\n",
       "      <td>...</td>\n",
       "      <td>...</td>\n",
       "      <td>...</td>\n",
       "      <td>...</td>\n",
       "    </tr>\n",
       "    <tr>\n",
       "      <th>6297</th>\n",
       "      <td>6.0</td>\n",
       "      <td>ND.0005</td>\n",
       "      <td>0.0</td>\n",
       "      <td>Unprovoked</td>\n",
       "      <td>AUSTRALIA</td>\n",
       "      <td>Western Australia</td>\n",
       "      <td>Diving</td>\n",
       "      <td>M</td>\n",
       "      <td>FATAL</td>\n",
       "      <td>Y</td>\n",
       "      <td>16:00</td>\n",
       "    </tr>\n",
       "    <tr>\n",
       "      <th>6298</th>\n",
       "      <td>5.0</td>\n",
       "      <td>ND.0004</td>\n",
       "      <td>0.0</td>\n",
       "      <td>Unprovoked</td>\n",
       "      <td>AUSTRALIA</td>\n",
       "      <td>Western Australia</td>\n",
       "      <td>Diving</td>\n",
       "      <td>M</td>\n",
       "      <td>FATAL</td>\n",
       "      <td>Y</td>\n",
       "      <td>16:00</td>\n",
       "    </tr>\n",
       "    <tr>\n",
       "      <th>6299</th>\n",
       "      <td>4.0</td>\n",
       "      <td>ND.0003</td>\n",
       "      <td>0.0</td>\n",
       "      <td>Unprovoked</td>\n",
       "      <td>USA</td>\n",
       "      <td>North Carolina</td>\n",
       "      <td>Swimming</td>\n",
       "      <td>M</td>\n",
       "      <td>FATAL</td>\n",
       "      <td>Y</td>\n",
       "      <td>16:00</td>\n",
       "    </tr>\n",
       "    <tr>\n",
       "      <th>6300</th>\n",
       "      <td>3.0</td>\n",
       "      <td>ND.0002</td>\n",
       "      <td>0.0</td>\n",
       "      <td>Unprovoked</td>\n",
       "      <td>PANAMA</td>\n",
       "      <td>Unknown</td>\n",
       "      <td>Unknown</td>\n",
       "      <td>M</td>\n",
       "      <td>FATAL</td>\n",
       "      <td>Y</td>\n",
       "      <td>16:00</td>\n",
       "    </tr>\n",
       "    <tr>\n",
       "      <th>6301</th>\n",
       "      <td>2.0</td>\n",
       "      <td>ND.0001</td>\n",
       "      <td>0.0</td>\n",
       "      <td>Unprovoked</td>\n",
       "      <td>SRI LANKA</td>\n",
       "      <td>Eastern Province</td>\n",
       "      <td>Swimming</td>\n",
       "      <td>M</td>\n",
       "      <td>FATAL. \"Shark bit him in half, carrying away t...</td>\n",
       "      <td>Y</td>\n",
       "      <td>16:00</td>\n",
       "    </tr>\n",
       "  </tbody>\n",
       "</table>\n",
       "<p>6302 rows × 11 columns</p>\n",
       "</div>"
      ],
      "text/plain": [
       "      original order Case Number    Year        Type    Country  \\\n",
       "0             6303.0  2018.06.25  2018.0        Boat        USA   \n",
       "1             6302.0  2018.06.18  2018.0  Unprovoked        USA   \n",
       "2             6301.0  2018.06.09  2018.0     Invalid        USA   \n",
       "3             6300.0  2018.06.08  2018.0  Unprovoked  AUSTRALIA   \n",
       "4             6299.0  2018.06.04  2018.0    Provoked     MEXICO   \n",
       "...              ...         ...     ...         ...        ...   \n",
       "6297             6.0     ND.0005     0.0  Unprovoked  AUSTRALIA   \n",
       "6298             5.0     ND.0004     0.0  Unprovoked  AUSTRALIA   \n",
       "6299             4.0     ND.0003     0.0  Unprovoked        USA   \n",
       "6300             3.0     ND.0002     0.0  Unprovoked     PANAMA   \n",
       "6301             2.0     ND.0001     0.0  Unprovoked  SRI LANKA   \n",
       "\n",
       "                   Area  Activity Sex   \\\n",
       "0            California   Surfing    F   \n",
       "1               Georgia  Standing    F   \n",
       "2                Hawaii   Surfing    M   \n",
       "3       New South Wales   Surfing    M   \n",
       "4                Colima    Diving    M   \n",
       "...                 ...       ...  ...   \n",
       "6297  Western Australia    Diving    M   \n",
       "6298  Western Australia    Diving    M   \n",
       "6299     North Carolina  Swimming    M   \n",
       "6300            Unknown   Unknown    M   \n",
       "6301   Eastern Province  Swimming    M   \n",
       "\n",
       "                                                 Injury Fatal (Y/N)   Time  \n",
       "0     No injury to occupant, outrigger canoe and pad...           N  18:00  \n",
       "1                            Minor injury to left thigh           N  14:00  \n",
       "2          Injury to left lower leg from surfboard skeg           N  07:45  \n",
       "3                             Minor injury to lower leg           N  07:45  \n",
       "4     Lacerations to leg & hand shark PROVOKED INCIDENT           N  07:45  \n",
       "...                                                 ...         ...    ...  \n",
       "6297                                              FATAL           Y  16:00  \n",
       "6298                                              FATAL           Y  16:00  \n",
       "6299                                              FATAL           Y  16:00  \n",
       "6300                                              FATAL           Y  16:00  \n",
       "6301  FATAL. \"Shark bit him in half, carrying away t...           Y  16:00  \n",
       "\n",
       "[6302 rows x 11 columns]"
      ]
     },
     "execution_count": 156,
     "metadata": {},
     "output_type": "execute_result"
    }
   ],
   "source": [
    "data"
   ]
  },
  {
   "cell_type": "code",
   "execution_count": 157,
   "metadata": {},
   "outputs": [],
   "source": [
    "#We set 'original order' as the index\n",
    "\n",
    "data = data.set_index(\"original order\")"
   ]
  },
  {
   "cell_type": "code",
   "execution_count": 158,
   "metadata": {},
   "outputs": [
    {
     "data": {
      "text/html": [
       "<div>\n",
       "<style scoped>\n",
       "    .dataframe tbody tr th:only-of-type {\n",
       "        vertical-align: middle;\n",
       "    }\n",
       "\n",
       "    .dataframe tbody tr th {\n",
       "        vertical-align: top;\n",
       "    }\n",
       "\n",
       "    .dataframe thead th {\n",
       "        text-align: right;\n",
       "    }\n",
       "</style>\n",
       "<table border=\"1\" class=\"dataframe\">\n",
       "  <thead>\n",
       "    <tr style=\"text-align: right;\">\n",
       "      <th></th>\n",
       "      <th>Case Number</th>\n",
       "      <th>Year</th>\n",
       "      <th>Type</th>\n",
       "      <th>Country</th>\n",
       "      <th>Area</th>\n",
       "      <th>Activity</th>\n",
       "      <th>Sex</th>\n",
       "      <th>Injury</th>\n",
       "      <th>Fatal (Y/N)</th>\n",
       "      <th>Time</th>\n",
       "    </tr>\n",
       "    <tr>\n",
       "      <th>original order</th>\n",
       "      <th></th>\n",
       "      <th></th>\n",
       "      <th></th>\n",
       "      <th></th>\n",
       "      <th></th>\n",
       "      <th></th>\n",
       "      <th></th>\n",
       "      <th></th>\n",
       "      <th></th>\n",
       "      <th></th>\n",
       "    </tr>\n",
       "  </thead>\n",
       "  <tbody>\n",
       "    <tr>\n",
       "      <th>6303.0</th>\n",
       "      <td>2018.06.25</td>\n",
       "      <td>2018.0</td>\n",
       "      <td>Boat</td>\n",
       "      <td>USA</td>\n",
       "      <td>California</td>\n",
       "      <td>Surfing</td>\n",
       "      <td>F</td>\n",
       "      <td>No injury to occupant, outrigger canoe and pad...</td>\n",
       "      <td>N</td>\n",
       "      <td>18:00</td>\n",
       "    </tr>\n",
       "    <tr>\n",
       "      <th>6302.0</th>\n",
       "      <td>2018.06.18</td>\n",
       "      <td>2018.0</td>\n",
       "      <td>Unprovoked</td>\n",
       "      <td>USA</td>\n",
       "      <td>Georgia</td>\n",
       "      <td>Standing</td>\n",
       "      <td>F</td>\n",
       "      <td>Minor injury to left thigh</td>\n",
       "      <td>N</td>\n",
       "      <td>14:00</td>\n",
       "    </tr>\n",
       "    <tr>\n",
       "      <th>6301.0</th>\n",
       "      <td>2018.06.09</td>\n",
       "      <td>2018.0</td>\n",
       "      <td>Invalid</td>\n",
       "      <td>USA</td>\n",
       "      <td>Hawaii</td>\n",
       "      <td>Surfing</td>\n",
       "      <td>M</td>\n",
       "      <td>Injury to left lower leg from surfboard skeg</td>\n",
       "      <td>N</td>\n",
       "      <td>07:45</td>\n",
       "    </tr>\n",
       "    <tr>\n",
       "      <th>6300.0</th>\n",
       "      <td>2018.06.08</td>\n",
       "      <td>2018.0</td>\n",
       "      <td>Unprovoked</td>\n",
       "      <td>AUSTRALIA</td>\n",
       "      <td>New South Wales</td>\n",
       "      <td>Surfing</td>\n",
       "      <td>M</td>\n",
       "      <td>Minor injury to lower leg</td>\n",
       "      <td>N</td>\n",
       "      <td>07:45</td>\n",
       "    </tr>\n",
       "    <tr>\n",
       "      <th>6299.0</th>\n",
       "      <td>2018.06.04</td>\n",
       "      <td>2018.0</td>\n",
       "      <td>Provoked</td>\n",
       "      <td>MEXICO</td>\n",
       "      <td>Colima</td>\n",
       "      <td>Diving</td>\n",
       "      <td>M</td>\n",
       "      <td>Lacerations to leg &amp; hand shark PROVOKED INCIDENT</td>\n",
       "      <td>N</td>\n",
       "      <td>07:45</td>\n",
       "    </tr>\n",
       "    <tr>\n",
       "      <th>...</th>\n",
       "      <td>...</td>\n",
       "      <td>...</td>\n",
       "      <td>...</td>\n",
       "      <td>...</td>\n",
       "      <td>...</td>\n",
       "      <td>...</td>\n",
       "      <td>...</td>\n",
       "      <td>...</td>\n",
       "      <td>...</td>\n",
       "      <td>...</td>\n",
       "    </tr>\n",
       "    <tr>\n",
       "      <th>6.0</th>\n",
       "      <td>ND.0005</td>\n",
       "      <td>0.0</td>\n",
       "      <td>Unprovoked</td>\n",
       "      <td>AUSTRALIA</td>\n",
       "      <td>Western Australia</td>\n",
       "      <td>Diving</td>\n",
       "      <td>M</td>\n",
       "      <td>FATAL</td>\n",
       "      <td>Y</td>\n",
       "      <td>16:00</td>\n",
       "    </tr>\n",
       "    <tr>\n",
       "      <th>5.0</th>\n",
       "      <td>ND.0004</td>\n",
       "      <td>0.0</td>\n",
       "      <td>Unprovoked</td>\n",
       "      <td>AUSTRALIA</td>\n",
       "      <td>Western Australia</td>\n",
       "      <td>Diving</td>\n",
       "      <td>M</td>\n",
       "      <td>FATAL</td>\n",
       "      <td>Y</td>\n",
       "      <td>16:00</td>\n",
       "    </tr>\n",
       "    <tr>\n",
       "      <th>4.0</th>\n",
       "      <td>ND.0003</td>\n",
       "      <td>0.0</td>\n",
       "      <td>Unprovoked</td>\n",
       "      <td>USA</td>\n",
       "      <td>North Carolina</td>\n",
       "      <td>Swimming</td>\n",
       "      <td>M</td>\n",
       "      <td>FATAL</td>\n",
       "      <td>Y</td>\n",
       "      <td>16:00</td>\n",
       "    </tr>\n",
       "    <tr>\n",
       "      <th>3.0</th>\n",
       "      <td>ND.0002</td>\n",
       "      <td>0.0</td>\n",
       "      <td>Unprovoked</td>\n",
       "      <td>PANAMA</td>\n",
       "      <td>Unknown</td>\n",
       "      <td>Unknown</td>\n",
       "      <td>M</td>\n",
       "      <td>FATAL</td>\n",
       "      <td>Y</td>\n",
       "      <td>16:00</td>\n",
       "    </tr>\n",
       "    <tr>\n",
       "      <th>2.0</th>\n",
       "      <td>ND.0001</td>\n",
       "      <td>0.0</td>\n",
       "      <td>Unprovoked</td>\n",
       "      <td>SRI LANKA</td>\n",
       "      <td>Eastern Province</td>\n",
       "      <td>Swimming</td>\n",
       "      <td>M</td>\n",
       "      <td>FATAL. \"Shark bit him in half, carrying away t...</td>\n",
       "      <td>Y</td>\n",
       "      <td>16:00</td>\n",
       "    </tr>\n",
       "  </tbody>\n",
       "</table>\n",
       "<p>6302 rows × 10 columns</p>\n",
       "</div>"
      ],
      "text/plain": [
       "               Case Number    Year        Type    Country               Area  \\\n",
       "original order                                                                 \n",
       "6303.0          2018.06.25  2018.0        Boat        USA         California   \n",
       "6302.0          2018.06.18  2018.0  Unprovoked        USA            Georgia   \n",
       "6301.0          2018.06.09  2018.0     Invalid        USA             Hawaii   \n",
       "6300.0          2018.06.08  2018.0  Unprovoked  AUSTRALIA    New South Wales   \n",
       "6299.0          2018.06.04  2018.0    Provoked     MEXICO             Colima   \n",
       "...                    ...     ...         ...        ...                ...   \n",
       "6.0                ND.0005     0.0  Unprovoked  AUSTRALIA  Western Australia   \n",
       "5.0                ND.0004     0.0  Unprovoked  AUSTRALIA  Western Australia   \n",
       "4.0                ND.0003     0.0  Unprovoked        USA     North Carolina   \n",
       "3.0                ND.0002     0.0  Unprovoked     PANAMA            Unknown   \n",
       "2.0                ND.0001     0.0  Unprovoked  SRI LANKA   Eastern Province   \n",
       "\n",
       "                Activity Sex   \\\n",
       "original order                  \n",
       "6303.0           Surfing    F   \n",
       "6302.0          Standing    F   \n",
       "6301.0           Surfing    M   \n",
       "6300.0           Surfing    M   \n",
       "6299.0            Diving    M   \n",
       "...                  ...  ...   \n",
       "6.0               Diving    M   \n",
       "5.0               Diving    M   \n",
       "4.0             Swimming    M   \n",
       "3.0              Unknown    M   \n",
       "2.0             Swimming    M   \n",
       "\n",
       "                                                           Injury Fatal (Y/N)  \\\n",
       "original order                                                                  \n",
       "6303.0          No injury to occupant, outrigger canoe and pad...           N   \n",
       "6302.0                                 Minor injury to left thigh           N   \n",
       "6301.0               Injury to left lower leg from surfboard skeg           N   \n",
       "6300.0                                  Minor injury to lower leg           N   \n",
       "6299.0          Lacerations to leg & hand shark PROVOKED INCIDENT           N   \n",
       "...                                                           ...         ...   \n",
       "6.0                                                         FATAL           Y   \n",
       "5.0                                                         FATAL           Y   \n",
       "4.0                                                         FATAL           Y   \n",
       "3.0                                                         FATAL           Y   \n",
       "2.0             FATAL. \"Shark bit him in half, carrying away t...           Y   \n",
       "\n",
       "                 Time  \n",
       "original order         \n",
       "6303.0          18:00  \n",
       "6302.0          14:00  \n",
       "6301.0          07:45  \n",
       "6300.0          07:45  \n",
       "6299.0          07:45  \n",
       "...               ...  \n",
       "6.0             16:00  \n",
       "5.0             16:00  \n",
       "4.0             16:00  \n",
       "3.0             16:00  \n",
       "2.0             16:00  \n",
       "\n",
       "[6302 rows x 10 columns]"
      ]
     },
     "execution_count": 158,
     "metadata": {},
     "output_type": "execute_result"
    }
   ],
   "source": [
    "data"
   ]
  },
  {
   "cell_type": "markdown",
   "metadata": {},
   "source": [
    "#### The firs thing we have to check in this analysis is the countrys in which there are more shark attacks"
   ]
  },
  {
   "cell_type": "code",
   "execution_count": 180,
   "metadata": {},
   "outputs": [
    {
     "data": {
      "text/plain": [
       "<matplotlib.axes._subplots.AxesSubplot at 0x1b196245520>"
      ]
     },
     "execution_count": 180,
     "metadata": {},
     "output_type": "execute_result"
    },
    {
     "data": {
      "image/png": "[encoded data removed]",
      "text/plain": [
       "<Figure size 432x288 with 1 Axes>"
      ]
     },
     "metadata": {
      "needs_background": "light"
     },
     "output_type": "display_data"
    }
   ],
   "source": [
    "sns.countplot(y=\"Country\", data=data, palette=\"ch:s=.25,rot=-.25\",\n",
    "              order=data.Country.value_counts().iloc[:10].index)"
   ]
  },
  {
   "cell_type": "markdown",
   "metadata": {},
   "source": [
    "#### As can be seen, and should not be a surprise, is that most attacks have taken place in locations of the USA, Australia and South Africa"
   ]
  },
  {
   "cell_type": "markdown",
   "metadata": {},
   "source": [
    "#### In what refers to the focus group of sharks, it can be seen that surfers lead the way followed by swimmers and fishers. Regarding this conclusion, ther is a theory that states that sharks see surfers in their boards as seals, what makes them want to take a bite, or at least check if it is something worthy to be eaten.  "
   ]
  },
  {
   "cell_type": "markdown",
   "metadata": {},
   "source": [
    "#### Should also be noticed that, the countries in which more attack have taken place have a huge surfing culture, which kind of reinforces both findings"
   ]
  },
  {
   "cell_type": "code",
   "execution_count": 184,
   "metadata": {},
   "outputs": [
    {
     "data": {
      "text/plain": [
       "<matplotlib.axes._subplots.AxesSubplot at 0x1b1963f62e0>"
      ]
     },
     "execution_count": 184,
     "metadata": {},
     "output_type": "execute_result"
    },
    {
     "data": {
      "image/png": "[encoded data removed]",
      "text/plain": [
       "<Figure size 432x288 with 1 Axes>"
      ]
     },
     "metadata": {
      "needs_background": "light"
     },
     "output_type": "display_data"
    }
   ],
   "source": [
    "sns.countplot(y=\"Activity\", data=data, palette=\"icefire\",\n",
    "              order=data.Activity.value_counts().iloc[:10].index)"
   ]
  },
  {
   "cell_type": "markdown",
   "metadata": {},
   "source": [
    "#### In the following graph we can see that most victims are males. Maybe is not surprising as men are ususally more careless than women, but there is way too much difference between bot sexs, so we should make any conclusions"
   ]
  },
  {
   "cell_type": "markdown",
   "metadata": {},
   "source": [
    "#### What can be seen is that most attacks are not fatal, against what most people think. This confirms the main hipothesis of this work, which was that shark attacks are not as fatal as people believe, and that there a is a common missunderstanding reagrding sharks' agrresiveness. \n",
    "\n",
    "#### The hard truth is, that this believe has led to a series of activites that are threatening to extinguish many shark species, and if we don't act quickly, it may be too late"
   ]
  },
  {
   "cell_type": "code",
   "execution_count": 192,
   "metadata": {},
   "outputs": [],
   "source": [
    "def graph(a,b,c,d):\n",
    "    return sns.countplot(x=b, data=a, palette=c,\n",
    "              order=a[b].value_counts().iloc[:d].index)\n",
    "    "
   ]
  },
  {
   "cell_type": "code",
   "execution_count": 193,
   "metadata": {},
   "outputs": [
    {
     "data": {
      "text/plain": [
       "<matplotlib.axes._subplots.AxesSubplot at 0x1b19660a820>"
      ]
     },
     "execution_count": 193,
     "metadata": {},
     "output_type": "execute_result"
    },
    {
     "data": {
      "image/png": "[encoded data removed]",
      "text/plain": [
       "<Figure size 432x288 with 1 Axes>"
      ]
     },
     "metadata": {
      "needs_background": "light"
     },
     "output_type": "display_data"
    }
   ],
   "source": [
    "graph(data, \"Sex \", \"rocket\", 2)"
   ]
  },
  {
   "cell_type": "code",
   "execution_count": 190,
   "metadata": {},
   "outputs": [
    {
     "data": {
      "text/plain": [
       "<matplotlib.axes._subplots.AxesSubplot at 0x1b19470b520>"
      ]
     },
     "execution_count": 190,
     "metadata": {},
     "output_type": "execute_result"
    },
    {
     "data": {
      "image/png": "[encoded data removed]",
      "text/plain": [
       "<Figure size 432x288 with 1 Axes>"
      ]
     },
     "metadata": {
      "needs_background": "light"
     },
     "output_type": "display_data"
    }
   ],
   "source": [
    "sns.countplot(x=\"Fatal (Y/N)\", hue=\"Sex \", data=data, palette=\"rocket\",\n",
    "              order=data[\"Fatal (Y/N)\"].value_counts().iloc[:2].index)"
   ]
  },
  {
   "cell_type": "code",
   "execution_count": 175,
   "metadata": {},
   "outputs": [
    {
     "data": {
      "text/plain": [
       "<matplotlib.axes._subplots.AxesSubplot at 0x1b196085700>"
      ]
     },
     "execution_count": 175,
     "metadata": {},
     "output_type": "execute_result"
    },
    {
     "data": {
      "image/png": "[encoded data removed]",
      "text/plain": [
       "<Figure size 432x288 with 1 Axes>"
      ]
     },
     "metadata": {
      "needs_background": "light"
     },
     "output_type": "display_data"
    }
   ],
   "source": [
    "sns.countplot(y=\"Time\", data=data, palette=\"Greens_d\",\n",
    "              order=data.Time.value_counts().iloc[:15].index)"
   ]
  },
  {
   "cell_type": "markdown",
   "metadata": {},
   "source": []
  }
 ],
 "metadata": {
  "kernelspec": {
   "display_name": "Python 3",
   "language": "python",
   "name": "python3"
  },
  "language_info": {
   "codemirror_mode": {
    "name": "ipython",
    "version": 3
   },
   "file_extension": ".py",
   "mimetype": "text/x-python",
   "name": "python",
   "nbconvert_exporter": "python",
   "pygments_lexer": "ipython3",
   "version": "3.8.3"
  }
 },
 "nbformat": 4,
 "nbformat_minor": 4
}
